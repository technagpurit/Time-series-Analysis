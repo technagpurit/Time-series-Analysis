{
 "cells": [
  {
   "cell_type": "code",
   "execution_count": 1,
   "id": "050050ba",
   "metadata": {
    "id": "050050ba"
   },
   "outputs": [],
   "source": [
    "import pandas as pd"
   ]
  },
  {
   "cell_type": "code",
   "execution_count": 4,
   "id": "663d43af",
   "metadata": {
    "id": "663d43af",
    "scrolled": true
   },
   "outputs": [],
   "source": [
    "data=pd.read_csv(r\"/content/dataset1.csv\")"
   ]
  },
  {
   "cell_type": "code",
   "execution_count": 5,
   "id": "gkibW1ftDYRo",
   "metadata": {
    "id": "gkibW1ftDYRo"
   },
   "outputs": [],
   "source": [
    "data=data[[\"Wind Speed\"]]"
   ]
  },
  {
   "cell_type": "code",
   "execution_count": 6,
   "id": "80875201",
   "metadata": {
    "id": "80875201"
   },
   "outputs": [],
   "source": [
    "values=data.values"
   ]
  },
  {
   "cell_type": "code",
   "execution_count": 7,
   "id": "80f26011",
   "metadata": {
    "colab": {
     "base_uri": "https://localhost:8080/"
    },
    "id": "80f26011",
    "outputId": "f0614e2a-75a5-4552-ce19-787a3982afac"
   },
   "outputs": [
    {
     "data": {
      "text/plain": [
       "array([[1.3],\n",
       "       [1.2],\n",
       "       [1.2],\n",
       "       ...,\n",
       "       [1.3],\n",
       "       [1.3],\n",
       "       [1.3]])"
      ]
     },
     "execution_count": 7,
     "metadata": {},
     "output_type": "execute_result"
    }
   ],
   "source": [
    "values"
   ]
  },
  {
   "cell_type": "code",
   "execution_count": 8,
   "id": "hsUyhqyUDuQ6",
   "metadata": {
    "colab": {
     "base_uri": "https://localhost:8080/"
    },
    "id": "hsUyhqyUDuQ6",
    "outputId": "788cd9b2-0e5c-4d71-85c2-e73dd50a7260"
   },
   "outputs": [
    {
     "data": {
      "text/plain": [
       "52560"
      ]
     },
     "execution_count": 8,
     "metadata": {},
     "output_type": "execute_result"
    }
   ],
   "source": [
    "len(data)"
   ]
  },
  {
   "cell_type": "code",
   "execution_count": 9,
   "id": "VA8XP0SxD3uk",
   "metadata": {
    "id": "VA8XP0SxD3uk"
   },
   "outputs": [],
   "source": [
    "#subtrcating last 3 values to make training and testing part\n",
    "train=data.iloc[:52558]\n",
    "test=data.iloc[-3:]"
   ]
  },
  {
   "cell_type": "code",
   "execution_count": 10,
   "id": "yoPlQHNlD25X",
   "metadata": {
    "id": "yoPlQHNlD25X"
   },
   "outputs": [],
   "source": [
    "from sklearn.preprocessing import MinMaxScaler"
   ]
  },
  {
   "cell_type": "code",
   "execution_count": 11,
   "id": "GMcQcZyNE1JY",
   "metadata": {
    "id": "GMcQcZyNE1JY"
   },
   "outputs": [],
   "source": [
    "scaler=MinMaxScaler()"
   ]
  },
  {
   "cell_type": "code",
   "execution_count": 12,
   "id": "cqKchI_cE0kf",
   "metadata": {
    "id": "cqKchI_cE0kf"
   },
   "outputs": [],
   "source": [
    "scaler.fit(train)\n",
    "scaled_train=scaler.transform(train)\n",
    "scaled_test=scaler.transform(test)"
   ]
  },
  {
   "cell_type": "code",
   "execution_count": 13,
   "id": "56meenKcEz8L",
   "metadata": {
    "colab": {
     "base_uri": "https://localhost:8080/"
    },
    "id": "56meenKcEz8L",
    "outputId": "21ae632a-4946-47e1-b238-542eb2607fce"
   },
   "outputs": [
    {
     "data": {
      "text/plain": [
       "array([[0.14444444],\n",
       "       [0.13333333],\n",
       "       [0.13333333],\n",
       "       [0.13333333],\n",
       "       [0.13333333],\n",
       "       [0.12222222],\n",
       "       [0.12222222],\n",
       "       [0.12222222],\n",
       "       [0.12222222],\n",
       "       [0.11111111]])"
      ]
     },
     "execution_count": 13,
     "metadata": {},
     "output_type": "execute_result"
    }
   ],
   "source": [
    "scaled_train[:10]"
   ]
  },
  {
   "cell_type": "code",
   "execution_count": 14,
   "id": "zxc1tS8_FvTH",
   "metadata": {
    "colab": {
     "base_uri": "https://localhost:8080/"
    },
    "id": "zxc1tS8_FvTH",
    "outputId": "e909a98b-45a9-4547-a380-4ebf988b86a1"
   },
   "outputs": [
    {
     "data": {
      "text/plain": [
       "array([[0.14444444],\n",
       "       [0.14444444],\n",
       "       [0.14444444]])"
      ]
     },
     "execution_count": 14,
     "metadata": {},
     "output_type": "execute_result"
    }
   ],
   "source": [
    "scaled_test"
   ]
  },
  {
   "cell_type": "code",
   "execution_count": 14,
   "id": "N7FxyTUOFv7O",
   "metadata": {
    "id": "N7FxyTUOFv7O"
   },
   "outputs": [],
   "source": []
  },
  {
   "cell_type": "markdown",
   "id": "4b97f240",
   "metadata": {
    "id": "4b97f240"
   },
   "source": [
    "# Data Preprocessing"
   ]
  },
  {
   "cell_type": "code",
   "execution_count": 15,
   "id": "5b7efc8c",
   "metadata": {
    "id": "5b7efc8c"
   },
   "outputs": [],
   "source": [
    "import numpy as np\n",
    "from tensorflow.keras.models import Sequential\n",
    "from tensorflow.keras.layers import LSTM\n",
    "from tensorflow.keras.layers import Dense\n",
    "from tensorflow.keras.layers import Flatten"
   ]
  },
  {
   "cell_type": "markdown",
   "id": "9f0db212",
   "metadata": {
    "id": "9f0db212"
   },
   "source": [
    "# Preparing input and output features"
   ]
  },
  {
   "cell_type": "code",
   "execution_count": 16,
   "id": "076a5f2f",
   "metadata": {
    "id": "076a5f2f"
   },
   "outputs": [],
   "source": [
    "from keras.preprocessing.sequence import TimeseriesGenerator"
   ]
  },
  {
   "cell_type": "code",
   "execution_count": 17,
   "id": "V03GRy-vBIFj",
   "metadata": {
    "id": "V03GRy-vBIFj"
   },
   "outputs": [],
   "source": [
    "n_input=3\n",
    "n_features=1\n",
    "generator=TimeseriesGenerator(scaled_train,scaled_train,length=n_input,batch_size=1)"
   ]
  },
  {
   "cell_type": "code",
   "execution_count": 18,
   "id": "AtfdTvjmGquc",
   "metadata": {
    "id": "AtfdTvjmGquc"
   },
   "outputs": [],
   "source": [
    "X,y=generator[0]"
   ]
  },
  {
   "cell_type": "code",
   "execution_count": 19,
   "id": "59ORxQ-pGvi-",
   "metadata": {
    "colab": {
     "base_uri": "https://localhost:8080/"
    },
    "id": "59ORxQ-pGvi-",
    "outputId": "1e6b7c63-24e0-4cd8-afaf-c4f4fcd4e7af"
   },
   "outputs": [
    {
     "data": {
      "text/plain": [
       "array([0.14444444, 0.13333333, 0.13333333])"
      ]
     },
     "execution_count": 19,
     "metadata": {},
     "output_type": "execute_result"
    }
   ],
   "source": [
    "#Given the array of this 3 array\n",
    "X.flatten()"
   ]
  },
  {
   "cell_type": "code",
   "execution_count": 20,
   "id": "8xV9HCWqGxEY",
   "metadata": {
    "colab": {
     "base_uri": "https://localhost:8080/"
    },
    "id": "8xV9HCWqGxEY",
    "outputId": "866d1a96-7b0f-4991-ddb4-7552bad6570d"
   },
   "outputs": [
    {
     "data": {
      "text/plain": [
       "array([[0.13333333]])"
      ]
     },
     "execution_count": 20,
     "metadata": {},
     "output_type": "execute_result"
    }
   ],
   "source": [
    "#predict this y\n",
    "y"
   ]
  },
  {
   "cell_type": "code",
   "execution_count": 21,
   "id": "CRTtOK7KHAGo",
   "metadata": {
    "colab": {
     "base_uri": "https://localhost:8080/"
    },
    "id": "CRTtOK7KHAGo",
    "outputId": "621ef17c-9fca-4dd1-d741-81d4c692f15a"
   },
   "outputs": [
    {
     "data": {
      "text/plain": [
       "(1, 3, 1)"
      ]
     },
     "execution_count": 21,
     "metadata": {},
     "output_type": "execute_result"
    }
   ],
   "source": [
    "X.shape"
   ]
  },
  {
   "cell_type": "code",
   "execution_count": 22,
   "id": "2sAR8nR-HTw_",
   "metadata": {
    "id": "2sAR8nR-HTw_"
   },
   "outputs": [],
   "source": [
    "model=Sequential()\n",
    "model.add(LSTM(100,activation=\"relu\",input_shape=(n_input,n_features)))\n",
    "model.add(Dense(1))\n",
    "model.compile(optimizer=\"adam\",loss=\"mse\")"
   ]
  },
  {
   "cell_type": "code",
   "execution_count": 23,
   "id": "lHWUTnoGH0eQ",
   "metadata": {
    "colab": {
     "base_uri": "https://localhost:8080/"
    },
    "id": "lHWUTnoGH0eQ",
    "outputId": "5613183e-43d2-4818-bf9e-3b46a1fd6d0a"
   },
   "outputs": [
    {
     "name": "stdout",
     "output_type": "stream",
     "text": [
      "Model: \"sequential\"\n",
      "_________________________________________________________________\n",
      " Layer (type)                Output Shape              Param #   \n",
      "=================================================================\n",
      " lstm (LSTM)                 (None, 100)               40800     \n",
      "                                                                 \n",
      " dense (Dense)               (None, 1)                 101       \n",
      "                                                                 \n",
      "=================================================================\n",
      "Total params: 40901 (159.77 KB)\n",
      "Trainable params: 40901 (159.77 KB)\n",
      "Non-trainable params: 0 (0.00 Byte)\n",
      "_________________________________________________________________\n"
     ]
    }
   ],
   "source": [
    "model.summary()"
   ]
  },
  {
   "cell_type": "code",
   "execution_count": 24,
   "id": "xAw9BErnH4jr",
   "metadata": {
    "colab": {
     "base_uri": "https://localhost:8080/"
    },
    "id": "xAw9BErnH4jr",
    "outputId": "edb41128-a11e-4271-ddb7-30a89b4b1eb3"
   },
   "outputs": [
    {
     "name": "stdout",
     "output_type": "stream",
     "text": [
      "Epoch 1/50\n",
      "52555/52555 [==============================] - 239s 5ms/step - loss: 1.8967e-04\n",
      "Epoch 2/50\n",
      "52555/52555 [==============================] - 236s 4ms/step - loss: 6.4026e-05\n",
      "Epoch 3/50\n",
      "52555/52555 [==============================] - 239s 5ms/step - loss: 5.9110e-05\n",
      "Epoch 4/50\n",
      "52555/52555 [==============================] - 239s 5ms/step - loss: 5.7445e-05\n",
      "Epoch 5/50\n",
      "52555/52555 [==============================] - 236s 4ms/step - loss: 5.6268e-05\n",
      "Epoch 6/50\n",
      "52555/52555 [==============================] - 235s 4ms/step - loss: 5.5119e-05\n",
      "Epoch 7/50\n",
      "52555/52555 [==============================] - 238s 5ms/step - loss: 5.4740e-05\n",
      "Epoch 8/50\n",
      "52555/52555 [==============================] - 239s 5ms/step - loss: 5.3981e-05\n",
      "Epoch 9/50\n",
      "52555/52555 [==============================] - 236s 4ms/step - loss: 5.3522e-05\n",
      "Epoch 10/50\n",
      "52555/52555 [==============================] - 233s 4ms/step - loss: 5.3142e-05\n",
      "Epoch 11/50\n",
      "52555/52555 [==============================] - 230s 4ms/step - loss: 5.2704e-05\n",
      "Epoch 12/50\n",
      "52555/52555 [==============================] - 234s 4ms/step - loss: 5.2374e-05\n",
      "Epoch 13/50\n",
      "52555/52555 [==============================] - 232s 4ms/step - loss: 5.1892e-05\n",
      "Epoch 14/50\n",
      "52555/52555 [==============================] - 235s 4ms/step - loss: 5.1733e-05\n",
      "Epoch 15/50\n",
      "52555/52555 [==============================] - 238s 5ms/step - loss: 5.1457e-05\n",
      "Epoch 16/50\n",
      "52555/52555 [==============================] - 247s 5ms/step - loss: 5.1313e-05\n",
      "Epoch 17/50\n",
      "52555/52555 [==============================] - 247s 5ms/step - loss: 5.1137e-05\n",
      "Epoch 18/50\n",
      "52555/52555 [==============================] - 234s 4ms/step - loss: 5.1218e-05\n",
      "Epoch 19/50\n",
      "52555/52555 [==============================] - 240s 5ms/step - loss: 5.0993e-05\n",
      "Epoch 20/50\n",
      "52555/52555 [==============================] - 244s 5ms/step - loss: 5.0556e-05\n",
      "Epoch 21/50\n",
      "52555/52555 [==============================] - 248s 5ms/step - loss: 5.0789e-05\n",
      "Epoch 22/50\n",
      "52555/52555 [==============================] - 253s 5ms/step - loss: 5.0321e-05\n",
      "Epoch 23/50\n",
      "52555/52555 [==============================] - 251s 5ms/step - loss: 5.0451e-05\n",
      "Epoch 24/50\n",
      "52555/52555 [==============================] - 267s 5ms/step - loss: 5.0384e-05\n",
      "Epoch 25/50\n",
      "52555/52555 [==============================] - 268s 5ms/step - loss: 5.0644e-05\n",
      "Epoch 26/50\n",
      "52555/52555 [==============================] - 248s 5ms/step - loss: 5.0457e-05\n",
      "Epoch 27/50\n",
      "52555/52555 [==============================] - 246s 5ms/step - loss: 5.0217e-05\n",
      "Epoch 28/50\n",
      "52555/52555 [==============================] - 249s 5ms/step - loss: 5.0306e-05\n",
      "Epoch 29/50\n",
      "52555/52555 [==============================] - 250s 5ms/step - loss: 4.9806e-05\n",
      "Epoch 30/50\n",
      "52555/52555 [==============================] - 247s 5ms/step - loss: 5.0090e-05\n",
      "Epoch 31/50\n",
      "52555/52555 [==============================] - 245s 5ms/step - loss: 5.0066e-05\n",
      "Epoch 32/50\n",
      "52555/52555 [==============================] - 239s 5ms/step - loss: 4.9698e-05\n",
      "Epoch 33/50\n",
      "52555/52555 [==============================] - 241s 5ms/step - loss: 4.9869e-05\n",
      "Epoch 34/50\n",
      "52555/52555 [==============================] - 244s 5ms/step - loss: 4.9696e-05\n",
      "Epoch 35/50\n",
      "52555/52555 [==============================] - 242s 5ms/step - loss: 4.9493e-05\n",
      "Epoch 36/50\n",
      "52555/52555 [==============================] - 243s 5ms/step - loss: 4.9445e-05\n",
      "Epoch 37/50\n",
      "52555/52555 [==============================] - 242s 5ms/step - loss: 4.9443e-05\n",
      "Epoch 38/50\n",
      "52555/52555 [==============================] - 244s 5ms/step - loss: 4.9353e-05\n",
      "Epoch 39/50\n",
      "52555/52555 [==============================] - 248s 5ms/step - loss: 4.9421e-05\n",
      "Epoch 40/50\n",
      "52555/52555 [==============================] - 242s 5ms/step - loss: 4.9426e-05\n",
      "Epoch 41/50\n",
      "52555/52555 [==============================] - 239s 5ms/step - loss: 4.9478e-05\n",
      "Epoch 42/50\n",
      "52555/52555 [==============================] - 241s 5ms/step - loss: 4.9197e-05\n",
      "Epoch 43/50\n",
      "52555/52555 [==============================] - 242s 5ms/step - loss: 4.9189e-05\n",
      "Epoch 44/50\n",
      "52555/52555 [==============================] - 241s 5ms/step - loss: 4.9007e-05\n",
      "Epoch 45/50\n",
      "52555/52555 [==============================] - 251s 5ms/step - loss: 4.9029e-05\n",
      "Epoch 46/50\n",
      "52555/52555 [==============================] - 237s 5ms/step - loss: 4.9099e-05\n",
      "Epoch 47/50\n",
      "52555/52555 [==============================] - 240s 5ms/step - loss: 4.9016e-05\n",
      "Epoch 48/50\n",
      "52555/52555 [==============================] - 237s 5ms/step - loss: 4.9086e-05\n",
      "Epoch 49/50\n",
      "52555/52555 [==============================] - 246s 5ms/step - loss: 4.9054e-05\n",
      "Epoch 50/50\n",
      "52555/52555 [==============================] - 243s 5ms/step - loss: 4.8854e-05\n"
     ]
    },
    {
     "data": {
      "text/plain": [
       "<keras.src.callbacks.History at 0x7c514885d6c0>"
      ]
     },
     "execution_count": 24,
     "metadata": {},
     "output_type": "execute_result"
    }
   ],
   "source": [
    "model.fit(generator,epochs=50)"
   ]
  },
  {
   "cell_type": "code",
   "execution_count": 27,
   "id": "03GdtiGiIE_Y",
   "metadata": {
    "id": "03GdtiGiIE_Y"
   },
   "outputs": [],
   "source": [
    "loss_per_epoch = model.history.history[\"loss\"]\n"
   ]
  },
  {
   "cell_type": "code",
   "execution_count": 28,
   "id": "8smC2cZGiDxz",
   "metadata": {
    "colab": {
     "base_uri": "https://localhost:8080/"
    },
    "id": "8smC2cZGiDxz",
    "outputId": "e9148e29-2b74-486b-c0e7-4727db71cd0e"
   },
   "outputs": [
    {
     "data": {
      "text/plain": [
       "[0.00018966513744089752,\n",
       " 6.40259386273101e-05,\n",
       " 5.910962863708846e-05,\n",
       " 5.744459485867992e-05,\n",
       " 5.6267530453624204e-05,\n",
       " 5.511860945262015e-05,\n",
       " 5.473979763337411e-05,\n",
       " 5.3980707889422774e-05,\n",
       " 5.3521765948971733e-05,\n",
       " 5.3142051910981536e-05,\n",
       " 5.270391557132825e-05,\n",
       " 5.237376899458468e-05,\n",
       " 5.189164585317485e-05,\n",
       " 5.1733411964960396e-05,\n",
       " 5.145712930243462e-05,\n",
       " 5.131294165039435e-05,\n",
       " 5.113660517963581e-05,\n",
       " 5.121847061673179e-05,\n",
       " 5.099286136101e-05,\n",
       " 5.055598376202397e-05,\n",
       " 5.078916365164332e-05,\n",
       " 5.032082481193356e-05,\n",
       " 5.045071884524077e-05,\n",
       " 5.038386007072404e-05,\n",
       " 5.0644335715333e-05,\n",
       " 5.045735451858491e-05,\n",
       " 5.0216673116665334e-05,\n",
       " 5.030607644584961e-05,\n",
       " 4.980624362360686e-05,\n",
       " 5.008964581065811e-05,\n",
       " 5.0066490075550973e-05,\n",
       " 4.9698312068358064e-05,\n",
       " 4.986941712559201e-05,\n",
       " 4.969593646819703e-05,\n",
       " 4.949349749949761e-05,\n",
       " 4.944543616147712e-05,\n",
       " 4.944348256685771e-05,\n",
       " 4.9352685891790316e-05,\n",
       " 4.9421123549109325e-05,\n",
       " 4.942579471389763e-05,\n",
       " 4.9477865104563534e-05,\n",
       " 4.919696948491037e-05,\n",
       " 4.918938429909758e-05,\n",
       " 4.900711792288348e-05,\n",
       " 4.9028541980078444e-05,\n",
       " 4.909892231808044e-05,\n",
       " 4.901634747511707e-05,\n",
       " 4.908601476927288e-05,\n",
       " 4.905352398054674e-05,\n",
       " 4.8854377382667735e-05]"
      ]
     },
     "execution_count": 28,
     "metadata": {},
     "output_type": "execute_result"
    }
   ],
   "source": [
    "loss_per_epoch"
   ]
  },
  {
   "cell_type": "code",
   "execution_count": 30,
   "id": "rps5YkzmiLoD",
   "metadata": {
    "colab": {
     "base_uri": "https://localhost:8080/",
     "height": 448
    },
    "id": "rps5YkzmiLoD",
    "outputId": "22f1ddfa-0c8a-437a-ac21-ac4adc71369e"
   },
   "outputs": [
    {
     "data": {
      "text/plain": [
       "[<matplotlib.lines.Line2D at 0x7c5137ef0be0>]"
      ]
     },
     "execution_count": 30,
     "metadata": {},
     "output_type": "execute_result"
    },
    {
     "data": {
      "image/png": "[encoded data removed]",
      "text/plain": [
       "<Figure size 640x480 with 1 Axes>"
      ]
     },
     "metadata": {},
     "output_type": "display_data"
    }
   ],
   "source": [
    "import matplotlib.pyplot as plt\n",
    "plt.plot(range(len(loss_per_epoch)),loss_per_epoch)"
   ]
  },
  {
   "cell_type": "code",
   "execution_count": 39,
   "id": "qZelulZfpxms",
   "metadata": {
    "id": "qZelulZfpxms"
   },
   "outputs": [],
   "source": [
    "#loss has been decreasing\n",
    "#last 3 value\n",
    "last_train_batch=scaled_train[-3:]"
   ]
  },
  {
   "cell_type": "code",
   "execution_count": 40,
   "id": "uB7nhjcbqsTV",
   "metadata": {
    "colab": {
     "base_uri": "https://localhost:8080/"
    },
    "id": "uB7nhjcbqsTV",
    "outputId": "a175b0dc-7375-4dc5-ede7-58864c502d17"
   },
   "outputs": [
    {
     "data": {
      "text/plain": [
       "array([[0.14444444],\n",
       "       [0.14444444],\n",
       "       [0.14444444]])"
      ]
     },
     "execution_count": 40,
     "metadata": {},
     "output_type": "execute_result"
    }
   ],
   "source": [
    "last_train_batch"
   ]
  },
  {
   "cell_type": "code",
   "execution_count": 41,
   "id": "yxGkFWlJqtnk",
   "metadata": {
    "id": "yxGkFWlJqtnk"
   },
   "outputs": [],
   "source": [
    "last_train_batch=last_train_batch.reshape((1,n_input,n_features))"
   ]
  },
  {
   "cell_type": "code",
   "execution_count": 42,
   "id": "UF3PjxAUrNKW",
   "metadata": {
    "colab": {
     "base_uri": "https://localhost:8080/"
    },
    "id": "UF3PjxAUrNKW",
    "outputId": "357ac085-bdd2-4796-c7d3-379aee4869fa"
   },
   "outputs": [
    {
     "data": {
      "text/plain": [
       "array([[[0.14444444],\n",
       "        [0.14444444],\n",
       "        [0.14444444]]])"
      ]
     },
     "execution_count": 42,
     "metadata": {},
     "output_type": "execute_result"
    }
   ],
   "source": [
    "last_train_batch"
   ]
  },
  {
   "cell_type": "code",
   "execution_count": 44,
   "id": "AhWKPNHDrOc9",
   "metadata": {
    "colab": {
     "base_uri": "https://localhost:8080/"
    },
    "id": "AhWKPNHDrOc9",
    "outputId": "f1d7c701-f51a-4132-c548-b85e9d1a4f20"
   },
   "outputs": [
    {
     "name": "stdout",
     "output_type": "stream",
     "text": [
      "1/1 [==============================] - 0s 469ms/step\n"
     ]
    },
    {
     "data": {
      "text/plain": [
       "array([[0.14522937]], dtype=float32)"
      ]
     },
     "execution_count": 44,
     "metadata": {},
     "output_type": "execute_result"
    }
   ],
   "source": [
    "model.predict(last_train_batch)"
   ]
  },
  {
   "cell_type": "code",
   "execution_count": 45,
   "id": "zrcW2JlBr8V-",
   "metadata": {
    "colab": {
     "base_uri": "https://localhost:8080/"
    },
    "id": "zrcW2JlBr8V-",
    "outputId": "4281dfab-2c82-49ae-bb8c-a8fa5ed4e753"
   },
   "outputs": [
    {
     "data": {
      "text/plain": [
       "array([0.14444444])"
      ]
     },
     "execution_count": 45,
     "metadata": {},
     "output_type": "execute_result"
    }
   ],
   "source": [
    "scaled_test[0]"
   ]
  },
  {
   "cell_type": "code",
   "execution_count": 47,
   "id": "YX1KoTkVsGml",
   "metadata": {
    "id": "YX1KoTkVsGml"
   },
   "outputs": [],
   "source": [
    "#actual is 0.1444 and model prediction is 0.1452"
   ]
  },
  {
   "cell_type": "code",
   "execution_count": 49,
   "id": "kN1dFVl3sXb9",
   "metadata": {
    "colab": {
     "base_uri": "https://localhost:8080/"
    },
    "id": "kN1dFVl3sXb9",
    "outputId": "c18db01d-acdc-4ddd-ad81-e6a0e0ebe276"
   },
   "outputs": [
    {
     "name": "stdout",
     "output_type": "stream",
     "text": [
      "1/1 [==============================] - 0s 52ms/step\n",
      "1/1 [==============================] - 0s 38ms/step\n",
      "1/1 [==============================] - 0s 38ms/step\n"
     ]
    }
   ],
   "source": [
    "tes_predictions=[]\n",
    "first_eval_batch=scaled_train[-n_input:]\n",
    "current_batch=first_eval_batch.reshape((1,n_input,n_features))\n",
    "\n",
    "for i in range(len(test)):\n",
    "  #get the prediction value for first batch\n",
    "  current_pred=model.predict(current_batch)[0]\n",
    "\n",
    "  #append the predictions into the array\n",
    "  tes_predictions.append(current_pred)\n",
    "\n",
    "  #use the prediction to update the batch and remove the first value\n",
    "  current_batch=np.append(current_batch[:,1:,:],[[current_pred]],axis=1)\n"
   ]
  },
  {
   "cell_type": "code",
   "execution_count": 50,
   "id": "iG5MSGcLtYPm",
   "metadata": {
    "colab": {
     "base_uri": "https://localhost:8080/"
    },
    "id": "iG5MSGcLtYPm",
    "outputId": "c3188c64-6ba3-4f3b-bb30-b499ca006c76"
   },
   "outputs": [
    {
     "data": {
      "text/plain": [
       "[array([0.14522937], dtype=float32),\n",
       " array([0.14622922], dtype=float32),\n",
       " array([0.14755736], dtype=float32)]"
      ]
     },
     "execution_count": 50,
     "metadata": {},
     "output_type": "execute_result"
    }
   ],
   "source": [
    "tes_predictions"
   ]
  },
  {
   "cell_type": "code",
   "execution_count": 51,
   "id": "BqQfDlf1tfYN",
   "metadata": {
    "colab": {
     "base_uri": "https://localhost:8080/"
    },
    "id": "BqQfDlf1tfYN",
    "outputId": "cbd32040-75e4-4d22-8f0b-db5c18cd78a7"
   },
   "outputs": [
    {
     "data": {
      "text/plain": [
       "array([[[0.14522937],\n",
       "        [0.14622922],\n",
       "        [0.14755736]]])"
      ]
     },
     "execution_count": 51,
     "metadata": {},
     "output_type": "execute_result"
    }
   ],
   "source": [
    "current_batch"
   ]
  },
  {
   "cell_type": "code",
   "execution_count": 52,
   "id": "ShX5HVJbtk1F",
   "metadata": {
    "colab": {
     "base_uri": "https://localhost:8080/"
    },
    "id": "ShX5HVJbtk1F",
    "outputId": "95b9e354-4b74-4faa-b46b-dc410aa80986"
   },
   "outputs": [
    {
     "data": {
      "text/plain": [
       "array([0.14755736], dtype=float32)"
      ]
     },
     "execution_count": 52,
     "metadata": {},
     "output_type": "execute_result"
    }
   ],
   "source": [
    "current_pred"
   ]
  },
  {
   "cell_type": "code",
   "execution_count": 53,
   "id": "42wpmjPttoIV",
   "metadata": {
    "id": "42wpmjPttoIV"
   },
   "outputs": [],
   "source": [
    "#converting back into original scale\n",
    "true_predictions=scaler.inverse_transform(tes_predictions)"
   ]
  },
  {
   "cell_type": "code",
   "execution_count": 54,
   "id": "XrpAwXKct9EO",
   "metadata": {
    "colab": {
     "base_uri": "https://localhost:8080/"
    },
    "id": "XrpAwXKct9EO",
    "outputId": "8e7dd031-9bb6-4f5d-971f-8dbd3589be26"
   },
   "outputs": [
    {
     "data": {
      "text/plain": [
       "array([[1.30706432],\n",
       "       [1.316063  ],\n",
       "       [1.32801627]])"
      ]
     },
     "execution_count": 54,
     "metadata": {},
     "output_type": "execute_result"
    }
   ],
   "source": [
    "true_predictions"
   ]
  },
  {
   "cell_type": "code",
   "execution_count": 55,
   "id": "QTbmTl7qt-Y2",
   "metadata": {
    "colab": {
     "base_uri": "https://localhost:8080/"
    },
    "id": "QTbmTl7qt-Y2",
    "outputId": "4932cb44-7db2-4b3d-c14b-7238b813f375"
   },
   "outputs": [
    {
     "name": "stderr",
     "output_type": "stream",
     "text": [
      "<ipython-input-55-28db28758c71>:1: SettingWithCopyWarning: \n",
      "A value is trying to be set on a copy of a slice from a DataFrame.\n",
      "Try using .loc[row_indexer,col_indexer] = value instead\n",
      "\n",
      "See the caveats in the documentation: https://pandas.pydata.org/pandas-docs/stable/user_guide/indexing.html#returning-a-view-versus-a-copy\n",
      "  test[\"predictions\"]=true_predictions\n"
     ]
    }
   ],
   "source": [
    "test[\"predictions\"]=true_predictions"
   ]
  },
  {
   "cell_type": "code",
   "execution_count": 56,
   "id": "abexiZEWuDpe",
   "metadata": {
    "colab": {
     "base_uri": "https://localhost:8080/",
     "height": 143
    },
    "id": "abexiZEWuDpe",
    "outputId": "cab66e1f-16e5-472c-9901-fe68c86ff997"
   },
   "outputs": [
    {
     "data": {
      "text/html": [
       "\n",
       "  <div id=\"df-a2ea2d31-5644-4509-807c-49e59782464a\" class=\"colab-df-container\">\n",
       "    <div>\n",
       "<style scoped>\n",
       "    .dataframe tbody tr th:only-of-type {\n",
       "        vertical-align: middle;\n",
       "    }\n",
       "\n",
       "    .dataframe tbody tr th {\n",
       "        vertical-align: top;\n",
       "    }\n",
       "\n",
       "    .dataframe thead th {\n",
       "        text-align: right;\n",
       "    }\n",
       "</style>\n",
       "<table border=\"1\" class=\"dataframe\">\n",
       "  <thead>\n",
       "    <tr style=\"text-align: right;\">\n",
       "      <th></th>\n",
       "      <th>Wind Speed</th>\n",
       "      <th>predictions</th>\n",
       "    </tr>\n",
       "  </thead>\n",
       "  <tbody>\n",
       "    <tr>\n",
       "      <th>52557</th>\n",
       "      <td>1.3</td>\n",
       "      <td>1.307064</td>\n",
       "    </tr>\n",
       "    <tr>\n",
       "      <th>52558</th>\n",
       "      <td>1.3</td>\n",
       "      <td>1.316063</td>\n",
       "    </tr>\n",
       "    <tr>\n",
       "      <th>52559</th>\n",
       "      <td>1.3</td>\n",
       "      <td>1.328016</td>\n",
       "    </tr>\n",
       "  </tbody>\n",
       "</table>\n",
       "</div>\n",
       "    <div class=\"colab-df-buttons\">\n",
       "\n",
       "  <div class=\"colab-df-container\">\n",
       "    <button class=\"colab-df-convert\" onclick=\"convertToInteractive('df-a2ea2d31-5644-4509-807c-49e59782464a')\"\n",
       "            title=\"Convert this dataframe to an interactive table.\"\n",
       "            style=\"display:none;\">\n",
       "\n",
       "  <svg xmlns=\"http://www.w3.org/2000/svg\" height=\"24px\" viewBox=\"0 -960 960 960\">\n",
       "    <path d=\"M120-120v-720h720v720H120Zm60-500h600v-160H180v160Zm220 220h160v-160H400v160Zm0 220h160v-160H400v160ZM180-400h160v-160H180v160Zm440 0h160v-160H620v160ZM180-180h160v-160H180v160Zm440 0h160v-160H620v160Z\"/>\n",
       "  </svg>\n",
       "    </button>\n",
       "\n",
       "  <style>\n",
       "    .colab-df-container {\n",
       "      display:flex;\n",
       "      gap: 12px;\n",
       "    }\n",
       "\n",
       "    .colab-df-convert {\n",
       "      background-color: #E8F0FE;\n",
       "      border: none;\n",
       "      border-radius: 50%;\n",
       "      cursor: pointer;\n",
       "      display: none;\n",
       "      fill: #1967D2;\n",
       "      height: 32px;\n",
       "      padding: 0 0 0 0;\n",
       "      width: 32px;\n",
       "    }\n",
       "\n",
       "    .colab-df-convert:hover {\n",
       "      background-color: #E2EBFA;\n",
       "      box-shadow: 0px 1px 2px rgba(60, 64, 67, 0.3), 0px 1px 3px 1px rgba(60, 64, 67, 0.15);\n",
       "      fill: #174EA6;\n",
       "    }\n",
       "\n",
       "    .colab-df-buttons div {\n",
       "      margin-bottom: 4px;\n",
       "    }\n",
       "\n",
       "    [theme=dark] .colab-df-convert {\n",
       "      background-color: #3B4455;\n",
       "      fill: #D2E3FC;\n",
       "    }\n",
       "\n",
       "    [theme=dark] .colab-df-convert:hover {\n",
       "      background-color: #434B5C;\n",
       "      box-shadow: 0px 1px 3px 1px rgba(0, 0, 0, 0.15);\n",
       "      filter: drop-shadow(0px 1px 2px rgba(0, 0, 0, 0.3));\n",
       "      fill: #FFFFFF;\n",
       "    }\n",
       "  </style>\n",
       "\n",
       "    <script>\n",
       "      const buttonEl =\n",
       "        document.querySelector('#df-a2ea2d31-5644-4509-807c-49e59782464a button.colab-df-convert');\n",
       "      buttonEl.style.display =\n",
       "        google.colab.kernel.accessAllowed ? 'block' : 'none';\n",
       "\n",
       "      async function convertToInteractive(key) {\n",
       "        const element = document.querySelector('#df-a2ea2d31-5644-4509-807c-49e59782464a');\n",
       "        const dataTable =\n",
       "          await google.colab.kernel.invokeFunction('convertToInteractive',\n",
       "                                                    [key], {});\n",
       "        if (!dataTable) return;\n",
       "\n",
       "        const docLinkHtml = 'Like what you see? Visit the ' +\n",
       "          '<a target=\"_blank\" href=https://colab.research.google.com/notebooks/data_table.ipynb>data table notebook</a>'\n",
       "          + ' to learn more about interactive tables.';\n",
       "        element.innerHTML = '';\n",
       "        dataTable['output_type'] = 'display_data';\n",
       "        await google.colab.output.renderOutput(dataTable, element);\n",
       "        const docLink = document.createElement('div');\n",
       "        docLink.innerHTML = docLinkHtml;\n",
       "        element.appendChild(docLink);\n",
       "      }\n",
       "    </script>\n",
       "  </div>\n",
       "\n",
       "\n",
       "<div id=\"df-2fb2587e-3157-4017-9fc7-c727769280ca\">\n",
       "  <button class=\"colab-df-quickchart\" onclick=\"quickchart('df-2fb2587e-3157-4017-9fc7-c727769280ca')\"\n",
       "            title=\"Suggest charts\"\n",
       "            style=\"display:none;\">\n",
       "\n",
       "<svg xmlns=\"http://www.w3.org/2000/svg\" height=\"24px\"viewBox=\"0 0 24 24\"\n",
       "     width=\"24px\">\n",
       "    <g>\n",
       "        <path d=\"M19 3H5c-1.1 0-2 .9-2 2v14c0 1.1.9 2 2 2h14c1.1 0 2-.9 2-2V5c0-1.1-.9-2-2-2zM9 17H7v-7h2v7zm4 0h-2V7h2v10zm4 0h-2v-4h2v4z\"/>\n",
       "    </g>\n",
       "</svg>\n",
       "  </button>\n",
       "\n",
       "<style>\n",
       "  .colab-df-quickchart {\n",
       "      --bg-color: #E8F0FE;\n",
       "      --fill-color: #1967D2;\n",
       "      --hover-bg-color: #E2EBFA;\n",
       "      --hover-fill-color: #174EA6;\n",
       "      --disabled-fill-color: #AAA;\n",
       "      --disabled-bg-color: #DDD;\n",
       "  }\n",
       "\n",
       "  [theme=dark] .colab-df-quickchart {\n",
       "      --bg-color: #3B4455;\n",
       "      --fill-color: #D2E3FC;\n",
       "      --hover-bg-color: #434B5C;\n",
       "      --hover-fill-color: #FFFFFF;\n",
       "      --disabled-bg-color: #3B4455;\n",
       "      --disabled-fill-color: #666;\n",
       "  }\n",
       "\n",
       "  .colab-df-quickchart {\n",
       "    background-color: var(--bg-color);\n",
       "    border: none;\n",
       "    border-radius: 50%;\n",
       "    cursor: pointer;\n",
       "    display: none;\n",
       "    fill: var(--fill-color);\n",
       "    height: 32px;\n",
       "    padding: 0;\n",
       "    width: 32px;\n",
       "  }\n",
       "\n",
       "  .colab-df-quickchart:hover {\n",
       "    background-color: var(--hover-bg-color);\n",
       "    box-shadow: 0 1px 2px rgba(60, 64, 67, 0.3), 0 1px 3px 1px rgba(60, 64, 67, 0.15);\n",
       "    fill: var(--button-hover-fill-color);\n",
       "  }\n",
       "\n",
       "  .colab-df-quickchart-complete:disabled,\n",
       "  .colab-df-quickchart-complete:disabled:hover {\n",
       "    background-color: var(--disabled-bg-color);\n",
       "    fill: var(--disabled-fill-color);\n",
       "    box-shadow: none;\n",
       "  }\n",
       "\n",
       "  .colab-df-spinner {\n",
       "    border: 2px solid var(--fill-color);\n",
       "    border-color: transparent;\n",
       "    border-bottom-color: var(--fill-color);\n",
       "    animation:\n",
       "      spin 1s steps(1) infinite;\n",
       "  }\n",
       "\n",
       "  @keyframes spin {\n",
       "    0% {\n",
       "      border-color: transparent;\n",
       "      border-bottom-color: var(--fill-color);\n",
       "      border-left-color: var(--fill-color);\n",
       "    }\n",
       "    20% {\n",
       "      border-color: transparent;\n",
       "      border-left-color: var(--fill-color);\n",
       "      border-top-color: var(--fill-color);\n",
       "    }\n",
       "    30% {\n",
       "      border-color: transparent;\n",
       "      border-left-color: var(--fill-color);\n",
       "      border-top-color: var(--fill-color);\n",
       "      border-right-color: var(--fill-color);\n",
       "    }\n",
       "    40% {\n",
       "      border-color: transparent;\n",
       "      border-right-color: var(--fill-color);\n",
       "      border-top-color: var(--fill-color);\n",
       "    }\n",
       "    60% {\n",
       "      border-color: transparent;\n",
       "      border-right-color: var(--fill-color);\n",
       "    }\n",
       "    80% {\n",
       "      border-color: transparent;\n",
       "      border-right-color: var(--fill-color);\n",
       "      border-bottom-color: var(--fill-color);\n",
       "    }\n",
       "    90% {\n",
       "      border-color: transparent;\n",
       "      border-bottom-color: var(--fill-color);\n",
       "    }\n",
       "  }\n",
       "</style>\n",
       "\n",
       "  <script>\n",
       "    async function quickchart(key) {\n",
       "      const quickchartButtonEl =\n",
       "        document.querySelector('#' + key + ' button');\n",
       "      quickchartButtonEl.disabled = true;  // To prevent multiple clicks.\n",
       "      quickchartButtonEl.classList.add('colab-df-spinner');\n",
       "      try {\n",
       "        const charts = await google.colab.kernel.invokeFunction(\n",
       "            'suggestCharts', [key], {});\n",
       "      } catch (error) {\n",
       "        console.error('Error during call to suggestCharts:', error);\n",
       "      }\n",
       "      quickchartButtonEl.classList.remove('colab-df-spinner');\n",
       "      quickchartButtonEl.classList.add('colab-df-quickchart-complete');\n",
       "    }\n",
       "    (() => {\n",
       "      let quickchartButtonEl =\n",
       "        document.querySelector('#df-2fb2587e-3157-4017-9fc7-c727769280ca button');\n",
       "      quickchartButtonEl.style.display =\n",
       "        google.colab.kernel.accessAllowed ? 'block' : 'none';\n",
       "    })();\n",
       "  </script>\n",
       "</div>\n",
       "\n",
       "  <div id=\"id_2b4b58ea-f39e-4ce4-a5f4-f2339046448c\">\n",
       "    <style>\n",
       "      .colab-df-generate {\n",
       "        background-color: #E8F0FE;\n",
       "        border: none;\n",
       "        border-radius: 50%;\n",
       "        cursor: pointer;\n",
       "        display: none;\n",
       "        fill: #1967D2;\n",
       "        height: 32px;\n",
       "        padding: 0 0 0 0;\n",
       "        width: 32px;\n",
       "      }\n",
       "\n",
       "      .colab-df-generate:hover {\n",
       "        background-color: #E2EBFA;\n",
       "        box-shadow: 0px 1px 2px rgba(60, 64, 67, 0.3), 0px 1px 3px 1px rgba(60, 64, 67, 0.15);\n",
       "        fill: #174EA6;\n",
       "      }\n",
       "\n",
       "      [theme=dark] .colab-df-generate {\n",
       "        background-color: #3B4455;\n",
       "        fill: #D2E3FC;\n",
       "      }\n",
       "\n",
       "      [theme=dark] .colab-df-generate:hover {\n",
       "        background-color: #434B5C;\n",
       "        box-shadow: 0px 1px 3px 1px rgba(0, 0, 0, 0.15);\n",
       "        filter: drop-shadow(0px 1px 2px rgba(0, 0, 0, 0.3));\n",
       "        fill: #FFFFFF;\n",
       "      }\n",
       "    </style>\n",
       "    <button class=\"colab-df-generate\" onclick=\"generateWithVariable('test')\"\n",
       "            title=\"Generate code using this dataframe.\"\n",
       "            style=\"display:none;\">\n",
       "\n",
       "  <svg xmlns=\"http://www.w3.org/2000/svg\" height=\"24px\"viewBox=\"0 0 24 24\"\n",
       "       width=\"24px\">\n",
       "    <path d=\"M7,19H8.4L18.45,9,17,7.55,7,17.6ZM5,21V16.75L18.45,3.32a2,2,0,0,1,2.83,0l1.4,1.43a1.91,1.91,0,0,1,.58,1.4,1.91,1.91,0,0,1-.58,1.4L9.25,21ZM18.45,9,17,7.55Zm-12,3A5.31,5.31,0,0,0,4.9,8.1,5.31,5.31,0,0,0,1,6.5,5.31,5.31,0,0,0,4.9,4.9,5.31,5.31,0,0,0,6.5,1,5.31,5.31,0,0,0,8.1,4.9,5.31,5.31,0,0,0,12,6.5,5.46,5.46,0,0,0,6.5,12Z\"/>\n",
       "  </svg>\n",
       "    </button>\n",
       "    <script>\n",
       "      (() => {\n",
       "      const buttonEl =\n",
       "        document.querySelector('#id_2b4b58ea-f39e-4ce4-a5f4-f2339046448c button.colab-df-generate');\n",
       "      buttonEl.style.display =\n",
       "        google.colab.kernel.accessAllowed ? 'block' : 'none';\n",
       "\n",
       "      buttonEl.onclick = () => {\n",
       "        google.colab.notebook.generateWithVariable('test');\n",
       "      }\n",
       "      })();\n",
       "    </script>\n",
       "  </div>\n",
       "\n",
       "    </div>\n",
       "  </div>\n"
      ],
      "text/plain": [
       "       Wind Speed  predictions\n",
       "52557         1.3     1.307064\n",
       "52558         1.3     1.316063\n",
       "52559         1.3     1.328016"
      ]
     },
     "execution_count": 56,
     "metadata": {},
     "output_type": "execute_result"
    }
   ],
   "source": [
    "test"
   ]
  },
  {
   "cell_type": "code",
   "execution_count": 57,
   "id": "xPtGWN1QuGJW",
   "metadata": {
    "colab": {
     "base_uri": "https://localhost:8080/",
     "height": 492
    },
    "id": "xPtGWN1QuGJW",
    "outputId": "6907e1f1-74b1-41a6-fff7-da8f8f6384bb"
   },
   "outputs": [
    {
     "data": {
      "text/plain": [
       "<Axes: >"
      ]
     },
     "execution_count": 57,
     "metadata": {},
     "output_type": "execute_result"
    },
    {
     "data": {
      "image/png": "[encoded data removed]",
      "text/plain": [
       "<Figure size 1200x600 with 1 Axes>"
      ]
     },
     "metadata": {},
     "output_type": "display_data"
    }
   ],
   "source": [
    "test.plot(figsize=(12,6))"
   ]
  },
  {
   "cell_type": "code",
   "execution_count": 58,
   "id": "JP3jWmwIuVbO",
   "metadata": {
    "id": "JP3jWmwIuVbO"
   },
   "outputs": [],
   "source": [
    "from sklearn.metrics import mean_squared_error\n",
    "from math import sqrt\n",
    "rmse=sqrt(mean_squared_error(test[\"predictions\"],test[\"Wind Speed\"]))"
   ]
  },
  {
   "cell_type": "code",
   "execution_count": 59,
   "id": "m2Xkc780u6Jt",
   "metadata": {
    "colab": {
     "base_uri": "https://localhost:8080/"
    },
    "id": "m2Xkc780u6Jt",
    "outputId": "2efcc505-e8c8-47e6-b787-c63910d11fe0"
   },
   "outputs": [
    {
     "data": {
      "text/plain": [
       "0.019086084641875452"
      ]
     },
     "execution_count": 59,
     "metadata": {},
     "output_type": "execute_result"
    }
   ],
   "source": [
    "rmse"
   ]
  },
  {
   "cell_type": "code",
   "execution_count": null,
   "id": "-oob0Cgyu7vW",
   "metadata": {
    "id": "-oob0Cgyu7vW"
   },
   "outputs": [],
   "source": []
  }
 ],
 "metadata": {
  "colab": {
   "provenance": []
  },
  "kernelspec": {
   "display_name": "Python 3 (ipykernel)",
   "language": "python",
   "name": "python3"
  },
  "language_info": {
   "codemirror_mode": {
    "name": "ipython",
    "version": 3
   },
   "file_extension": ".py",
   "mimetype": "text/x-python",
   "name": "python",
   "nbconvert_exporter": "python",
   "pygments_lexer": "ipython3",
   "version": "3.11.3"
  }
 },
 "nbformat": 4,
 "nbformat_minor": 5
}
